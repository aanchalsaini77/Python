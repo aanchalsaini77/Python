{
 "cells": [
  {
   "cell_type": "code",
   "execution_count": null,
   "id": "899d1f7d",
   "metadata": {},
   "outputs": [],
   "source": [
    "name = input(\"Enter your name:\" )\n",
    "weight  = int(input(\"Enter your weight in pounds: \"))\n",
    "height  = int(input(\"Enter your height in inches: \"))\n",
    "BMI = (weight * 703) / (height * height)\n",
    "print (BMI)\n",
    "if BMI>0:\n",
    "    if(BMI<18.5):\n",
    "        print(name + \" You are Underweight\")\n",
    "    elif(BMI<=24.9):\n",
    "        print(name + \" You are Normal weight\")\n",
    "    elif(BMI<=29.9):\n",
    "        print(name + \" You are Overweight\")\n",
    "    elif(BMI<=34.9):\n",
    "        print(name + \" You are Obese\")\n",
    "    elif(BMI<=39.9):\n",
    "        print(name + \" You are Severly Obese\")\n",
    "    else:\n",
    "        print(name + \" You are Morbidly Obese\")"
   ]
  },
  {
   "cell_type": "code",
   "execution_count": 6,
   "id": "57610b10",
   "metadata": {},
   "outputs": [
    {
     "name": "stdout",
     "output_type": "stream",
     "text": [
      "You are Morbidly Obese\n"
     ]
    }
   ],
   "source": []
  },
  {
   "cell_type": "code",
   "execution_count": null,
   "id": "a6d0412c",
   "metadata": {},
   "outputs": [],
   "source": []
  }
 ],
 "metadata": {
  "kernelspec": {
   "display_name": "Python 3 (ipykernel)",
   "language": "python",
   "name": "python3"
  },
  "language_info": {
   "codemirror_mode": {
    "name": "ipython",
    "version": 3
   },
   "file_extension": ".py",
   "mimetype": "text/x-python",
   "name": "python",
   "nbconvert_exporter": "python",
   "pygments_lexer": "ipython3",
   "version": "3.11.4"
  }
 },
 "nbformat": 4,
 "nbformat_minor": 5
}
